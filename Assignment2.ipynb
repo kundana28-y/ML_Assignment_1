{
 "cells": [
  {
   "cell_type": "code",
   "execution_count": 2,
   "id": "4e2dee9d",
   "metadata": {},
   "outputs": [
    {
     "name": "stdout",
     "output_type": "stream",
     "text": [
      "* \n",
      "* * \n",
      "* * * \n",
      "* * * * \n",
      "* * * * * \n",
      "* * * * \n",
      "* * * \n",
      "* * \n",
      "* \n"
     ]
    }
   ],
   "source": [
    "for i in range(1,6):\n",
    "    for j in range(0,i):\n",
    "        print(\"*\",end=\" \")\n",
    "    print(\"\")\n",
    "for i in range(4,0,-1):\n",
    "    for j in range(0,i):\n",
    "        print(\"*\",end=\" \")\n",
    "    print(\"\")\n"
   ]
  },
  {
   "cell_type": "code",
   "execution_count": 3,
   "id": "e5635c5b",
   "metadata": {},
   "outputs": [
    {
     "name": "stdout",
     "output_type": "stream",
     "text": [
      "20 40 60 80 100 \n"
     ]
    }
   ],
   "source": [
    "my_List=[10,20,30,40,50,60,70,80,90,100]\n",
    "for i in range(0,len(my_List)):\n",
    "    if i%2==1:\n",
    "        print(my_List[i],end=\" \")\n",
    "print(\"\")"
   ]
  },
  {
   "cell_type": "code",
   "execution_count": 4,
   "id": "939a7d25",
   "metadata": {},
   "outputs": [
    {
     "name": "stdout",
     "output_type": "stream",
     "text": [
      "[23, 'Python', 23.98]\n",
      "[<class 'int'>, <class 'str'>, <class 'float'>]\n"
     ]
    }
   ],
   "source": [
    "x = [23, 'Python', 23.98]\n",
    "t=[]\n",
    "for i in range(0,len(x)):\n",
    "    t.append(type(x[i]))\n",
    "print(x)\n",
    "print(t)"
   ]
  },
  {
   "cell_type": "code",
   "execution_count": 5,
   "id": "d735da60",
   "metadata": {},
   "outputs": [
    {
     "name": "stdout",
     "output_type": "stream",
     "text": [
      "[1, 2, 3, 4, 5]\n"
     ]
    }
   ],
   "source": [
    "Sample_List=[1,2,3,3,3,3,4,5]\n",
    "Unique_List=[]\n",
    "for i in Sample_List:\n",
    "    if i not in Unique_List:\n",
    "        Unique_List.append(i)\n",
    "print(Unique_List)"
   ]
  },
  {
   "cell_type": "code",
   "execution_count": 6,
   "id": "85d1cf70",
   "metadata": {},
   "outputs": [
    {
     "name": "stdout",
     "output_type": "stream",
     "text": [
      "No. of Upper-case characters: 3\n",
      "No. of Lower-case characters: 12\n"
     ]
    }
   ],
   "source": [
    "Input_String='The quick Brow Fox'\n",
    "capitals=0\n",
    "spaces=0\n",
    "for i in Input_String:\n",
    "    if(i.isupper()):\n",
    "        capitals+=1\n",
    "    else:\n",
    "        if i==\" \":\n",
    "            spaces+=1\n",
    "print(\"No. of Upper-case characters: \"+str(capitals))\n",
    "print(\"No. of Lower-case characters: \"+str((len(Input_String)-(capitals+spaces))))"
   ]
  },
  {
   "cell_type": "code",
   "execution_count": null,
   "id": "ccdab7a1",
   "metadata": {},
   "outputs": [],
   "source": []
  }
 ],
 "metadata": {
  "kernelspec": {
   "display_name": "Python 3 (ipykernel)",
   "language": "python",
   "name": "python3"
  },
  "language_info": {
   "codemirror_mode": {
    "name": "ipython",
    "version": 3
   },
   "file_extension": ".py",
   "mimetype": "text/x-python",
   "name": "python",
   "nbconvert_exporter": "python",
   "pygments_lexer": "ipython3",
   "version": "3.11.1"
  }
 },
 "nbformat": 4,
 "nbformat_minor": 5
}
